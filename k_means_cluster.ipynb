{
  "nbformat": 4,
  "nbformat_minor": 0,
  "metadata": {
    "colab": {
      "name": "k_means_cluster.ipynb",
      "provenance": [],
      "include_colab_link": true
    },
    "kernelspec": {
      "name": "python2",
      "display_name": "Python 2"
    }
  },
  "cells": [
    {
      "cell_type": "markdown",
      "metadata": {
        "id": "view-in-github",
        "colab_type": "text"
      },
      "source": [
        "<a href=\"https://colab.research.google.com/github/aicharya/HomePrice/blob/master/k_means_cluster.ipynb\" target=\"_parent\"><img src=\"https://colab.research.google.com/assets/colab-badge.svg\" alt=\"Open In Colab\"/></a>"
      ]
    },
    {
      "cell_type": "code",
      "metadata": {
        "id": "ZHsZlwH5-VpA",
        "colab_type": "code",
        "colab": {
          "base_uri": "https://localhost:8080/",
          "height": 145
        },
        "outputId": "c467ac0b-55d2-41c1-9e6c-d5349cd3f256"
      },
      "source": [
        "!git clone https://github.com/aicharya/ud120-projects.git"
      ],
      "execution_count": 1,
      "outputs": [
        {
          "output_type": "stream",
          "text": [
            "Cloning into 'ud120-projects'...\n",
            "remote: Enumerating objects: 80, done.\u001b[K\n",
            "remote: Counting objects: 100% (80/80), done.\u001b[K\n",
            "remote: Compressing objects: 100% (80/80), done.\u001b[K\n",
            "remote: Total 5265 (delta 52), reused 0 (delta 0), pack-reused 5185\u001b[K\n",
            "Receiving objects: 100% (5265/5265), 19.86 MiB | 15.63 MiB/s, done.\n",
            "Resolving deltas: 100% (4503/4503), done.\n"
          ],
          "name": "stdout"
        }
      ]
    },
    {
      "cell_type": "code",
      "metadata": {
        "id": "ZhY14_XL_Yne",
        "colab_type": "code",
        "colab": {
          "base_uri": "https://localhost:8080/",
          "height": 35
        },
        "outputId": "df55e917-995e-415e-b3ed-10b9adb81875"
      },
      "source": [
        "import os\n",
        "os.chdir('ud120-projects/k_means')\n",
        "os.listdir(os.getcwd())"
      ],
      "execution_count": 2,
      "outputs": [
        {
          "output_type": "execute_result",
          "data": {
            "text/plain": [
              "['k_means_cluster.ipynb', 'k_means_cluster.py']"
            ]
          },
          "metadata": {
            "tags": []
          },
          "execution_count": 2
        }
      ]
    },
    {
      "cell_type": "code",
      "metadata": {
        "id": "Pwt3U-3B_km0",
        "colab_type": "code",
        "colab": {}
      },
      "source": [
        "import pickle\n",
        "import numpy\n",
        "import matplotlib.pyplot as plt\n",
        "import sys\n",
        "\n",
        "sys.path.append(\"../tools/\")\n",
        "\n",
        "from feature_format import featureFormat, targetFeatureSplit"
      ],
      "execution_count": 0,
      "outputs": []
    },
    {
      "cell_type": "markdown",
      "metadata": {
        "id": "c8RHzM9O_rDU",
        "colab_type": "text"
      },
      "source": [
        "####some plotting code designed to help you visualize your clusters"
      ]
    },
    {
      "cell_type": "code",
      "metadata": {
        "id": "ikv-ox4W_m9q",
        "colab_type": "code",
        "colab": {}
      },
      "source": [
        "def Draw(pred, features, poi, mark_poi=False, name=\"image.png\", f1_name=\"feature 1\", f2_name=\"feature 2\"):\n",
        "    \"\"\" some plotting code designed to help you visualize your clusters \"\"\"\n",
        "\n",
        "    ### plot each cluster with a different color--add more colors for\n",
        "    ### drawing more than five clusters\n",
        "    colors = [\"b\", \"c\", \"k\", \"m\", \"g\"]\n",
        "    for ii, pp in enumerate(pred):\n",
        "        plt.scatter(features[ii][0], features[ii][1], color = colors[pred[ii]])\n",
        "\n",
        "    ### if you like, place red stars over points that are POIs (just for funsies)\n",
        "    if mark_poi:\n",
        "        for ii, pp in enumerate(pred):\n",
        "            if poi[ii]:\n",
        "                plt.scatter(features[ii][0], features[ii][1], color=\"r\", marker=\"*\")\n",
        "    plt.xlabel(f1_name)\n",
        "    plt.ylabel(f2_name)\n",
        "    plt.savefig(name)\n",
        "    plt.show()"
      ],
      "execution_count": 0,
      "outputs": []
    },
    {
      "cell_type": "markdown",
      "metadata": {
        "id": "mCVgylYD_x6X",
        "colab_type": "text"
      },
      "source": [
        "#### load in the dict of dicts containing all the data on each person in the dataset"
      ]
    },
    {
      "cell_type": "code",
      "metadata": {
        "id": "md-oe43x_qbx",
        "colab_type": "code",
        "colab": {}
      },
      "source": [
        "data_dict = pickle.load( open(\"../final_project/final_project_dataset.pkl\", \"r\") )"
      ],
      "execution_count": 0,
      "outputs": []
    },
    {
      "cell_type": "markdown",
      "metadata": {
        "id": "sD8I1Biw_43P",
        "colab_type": "text"
      },
      "source": [
        "##### there's an outlier--remove it! "
      ]
    },
    {
      "cell_type": "code",
      "metadata": {
        "id": "vLluwgIN_8r1",
        "colab_type": "code",
        "colab": {
          "base_uri": "https://localhost:8080/",
          "height": 399
        },
        "outputId": "42cb4c37-6830-4810-f809-b162ae60edbc"
      },
      "source": [
        "data_dict.pop(\"TOTAL\", 0)"
      ],
      "execution_count": 6,
      "outputs": [
        {
          "output_type": "execute_result",
          "data": {
            "text/plain": [
              "{'bonus': 97343619,\n",
              " 'deferral_payments': 32083396,\n",
              " 'deferred_income': -27992891,\n",
              " 'director_fees': 1398517,\n",
              " 'email_address': 'NaN',\n",
              " 'exercised_stock_options': 311764000,\n",
              " 'expenses': 5235198,\n",
              " 'from_messages': 'NaN',\n",
              " 'from_poi_to_this_person': 'NaN',\n",
              " 'from_this_person_to_poi': 'NaN',\n",
              " 'loan_advances': 83925000,\n",
              " 'long_term_incentive': 48521928,\n",
              " 'other': 42667589,\n",
              " 'poi': False,\n",
              " 'restricted_stock': 130322299,\n",
              " 'restricted_stock_deferred': -7576788,\n",
              " 'salary': 26704229,\n",
              " 'shared_receipt_with_poi': 'NaN',\n",
              " 'to_messages': 'NaN',\n",
              " 'total_payments': 309886585,\n",
              " 'total_stock_value': 434509511}"
            ]
          },
          "metadata": {
            "tags": []
          },
          "execution_count": 6
        }
      ]
    },
    {
      "cell_type": "markdown",
      "metadata": {
        "id": "7YtbN8A6AN4K",
        "colab_type": "text"
      },
      "source": [
        "#### the input features we want to use \n",
        "#### can be any key in the person-level dictionary (salary, director_fees, etc.)"
      ]
    },
    {
      "cell_type": "code",
      "metadata": {
        "id": "egLoxyCLAP_q",
        "colab_type": "code",
        "colab": {}
      },
      "source": [
        "feature_1 = \"salary\"\n",
        "feature_2 = \"exercised_stock_options\"\n",
        "poi  = \"poi\"\n",
        "features_list = [poi, feature_1, feature_2]\n",
        "data = featureFormat(data_dict, features_list )\n",
        "poi, finance_features = targetFeatureSplit( data )"
      ],
      "execution_count": 0,
      "outputs": []
    },
    {
      "cell_type": "markdown",
      "metadata": {
        "id": "iPp5zHQmAUG1",
        "colab_type": "text"
      },
      "source": [
        "#### in the \"clustering with 3 features\" part of the mini-project,\n",
        "#### you'll want to change this line to \n",
        "#### for f1, f2, _ in finance_features:\n",
        "#### (as it's currently written, the line below assumes 2 features)"
      ]
    },
    {
      "cell_type": "code",
      "metadata": {
        "id": "jXio_jy3AnGc",
        "colab_type": "code",
        "colab": {
          "base_uri": "https://localhost:8080/",
          "height": 276
        },
        "outputId": "5a21cd58-850b-42e6-83d6-5af16aaf0b80"
      },
      "source": [
        "for f1, f2 in finance_features:\n",
        "    plt.scatter( f1, f2 )\n",
        "plt.show()"
      ],
      "execution_count": 8,
      "outputs": [
        {
          "output_type": "display_data",
          "data": {
            "image/png": "[encoded data removed]",
            "text/plain": [
              "<Figure size 432x288 with 1 Axes>"
            ]
          },
          "metadata": {
            "tags": []
          }
        }
      ]
    },
    {
      "cell_type": "markdown",
      "metadata": {
        "id": "nkLjiAbUAvlP",
        "colab_type": "text"
      },
      "source": [
        "#### cluster here; create predictions of the cluster labels\n",
        "#### for the data and store them to a list called pred\n"
      ]
    },
    {
      "cell_type": "code",
      "metadata": {
        "id": "RVpel8nhAuoc",
        "colab_type": "code",
        "colab": {}
      },
      "source": [
        ""
      ],
      "execution_count": 0,
      "outputs": []
    },
    {
      "cell_type": "markdown",
      "metadata": {
        "id": "DKoigwIpA0Sh",
        "colab_type": "text"
      },
      "source": [
        "#### rename the \"name\" parameter when you change the number of features\n",
        "#### so that the figure gets saved to a different file"
      ]
    },
    {
      "cell_type": "code",
      "metadata": {
        "id": "PHcCIDmFAzpN",
        "colab_type": "code",
        "colab": {}
      },
      "source": [
        "try:\n",
        "    Draw(pred, finance_features, poi, mark_poi=False, name=\"clusters.pdf\", f1_name=feature_1, f2_name=feature_2)\n",
        "except NameError:\n",
        "    print \"no predictions object named pred found, no clusters to plot\""
      ],
      "execution_count": 0,
      "outputs": []
    }
  ]
}