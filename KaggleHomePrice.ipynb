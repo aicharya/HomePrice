{
  "nbformat": 4,
  "nbformat_minor": 0,
  "metadata": {
    "colab": {
      "name": "KaggleHomePrice.ipynb",
      "version": "0.3.2",
      "provenance": [],
      "include_colab_link": true
    },
    "kernelspec": {
      "name": "python3",
      "display_name": "Python 3"
    }
  },
  "cells": [
    {
      "cell_type": "markdown",
      "metadata": {
        "id": "view-in-github",
        "colab_type": "text"
      },
      "source": [
        "<a href=\"https://colab.research.google.com/github/aicharya/HomePrice/blob/master/KaggleHomePrice.ipynb\" target=\"_parent\"><img src=\"https://colab.research.google.com/assets/colab-badge.svg\" alt=\"Open In Colab\"/></a>"
      ]
    },
    {
      "cell_type": "markdown",
      "metadata": {
        "id": "tv67vBFLs59H",
        "colab_type": "text"
      },
      "source": [
        "Checkout the repo"
      ]
    },
    {
      "cell_type": "code",
      "metadata": {
        "id": "PXP77LvBs5Oz",
        "colab_type": "code",
        "colab": {
          "base_uri": "https://localhost:8080/",
          "height": 126
        },
        "outputId": "3c652c73-57ae-4df8-b152-35422b744493"
      },
      "source": [
        "!git clone https://github.com/aicharya/HomePrice.git"
      ],
      "execution_count": 1,
      "outputs": [
        {
          "output_type": "stream",
          "text": [
            "Cloning into 'HomePrice'...\n",
            "remote: Enumerating objects: 66, done.\u001b[K\n",
            "remote: Counting objects: 100% (66/66), done.\u001b[K\n",
            "remote: Compressing objects: 100% (62/62), done.\u001b[K\n",
            "remote: Total 66 (delta 38), reused 6 (delta 2), pack-reused 0\u001b[K\n",
            "Unpacking objects: 100% (66/66), done.\n"
          ],
          "name": "stdout"
        }
      ]
    },
    {
      "cell_type": "markdown",
      "metadata": {
        "id": "8p0hAEgWs1oB",
        "colab_type": "text"
      },
      "source": [
        "Pull the latest files"
      ]
    },
    {
      "cell_type": "code",
      "metadata": {
        "id": "qomPaF0tj6Ng",
        "colab_type": "code",
        "colab": {
          "base_uri": "https://localhost:8080/",
          "height": 108
        },
        "outputId": "8391d140-8912-48a2-edba-c8bb275bddbc"
      },
      "source": [
        "!cd HomePrice; git pull; ls"
      ],
      "execution_count": 2,
      "outputs": [
        {
          "output_type": "stream",
          "text": [
            "Already up to date.\n",
            "DecisionTree.ipynb\t\t RandomForest.ipynb\tsample_submission.csv\n",
            "ForwardStepwiseRegression.ipynb  README.md\t\ttest.csv\n",
            "KaggleHomePrice.ipynb\t\t RegressionTrees.ipynb\ttrain.csv\n",
            "LassoRegression.ipynb\t\t RidgeRegression.ipynb\n"
          ],
          "name": "stdout"
        }
      ]
    },
    {
      "cell_type": "code",
      "metadata": {
        "id": "AG6SQ0kCozDm",
        "colab_type": "code",
        "colab": {
          "base_uri": "https://localhost:8080/",
          "height": 55
        },
        "outputId": "bd572364-afb4-43d8-87bd-84882f7d3582"
      },
      "source": [
        "import os\n",
        "print(os.listdir(\"HomePrice\"))"
      ],
      "execution_count": 3,
      "outputs": [
        {
          "output_type": "stream",
          "text": [
            "['.git', 'README.md', 'sample_submission.csv', 'LassoRegression.ipynb', 'test.csv', 'ForwardStepwiseRegression.ipynb', 'DecisionTree.ipynb', 'train.csv', 'RandomForest.ipynb', 'RegressionTrees.ipynb', 'KaggleHomePrice.ipynb', 'RidgeRegression.ipynb']\n"
          ],
          "name": "stdout"
        }
      ]
    },
    {
      "cell_type": "markdown",
      "metadata": {
        "id": "5mzOaNsKpFuZ",
        "colab_type": "text"
      },
      "source": [
        "Load Data"
      ]
    },
    {
      "cell_type": "code",
      "metadata": {
        "id": "mAFcHopZpHT8",
        "colab_type": "code",
        "colab": {}
      },
      "source": [
        "import pandas as pd\n",
        "from sklearn.model_selection import train_test_split\n",
        "\n",
        "# Read the data\n",
        "X_full = pd.read_csv('HomePrice/train.csv', index_col='Id')\n",
        "X_test_full = pd.read_csv('HomePrice/test.csv', index_col='Id')\n",
        "\n",
        "# Remove rows with missing target, separate target from predictors\n",
        "X_full.dropna(axis=0, subset=['SalePrice'], inplace=True)\n",
        "y = X_full.SalePrice\n",
        "X_full.drop(['SalePrice'], axis=1, inplace=True)\n",
        "\n",
        "# To keep things simple, we'll use only numerical predictors\n",
        "X = X_full.select_dtypes(exclude=['object'])\n",
        "X_test = X_test_full.select_dtypes(exclude=['object'])\n",
        "\n",
        "# Break off validation set from training data\n",
        "X_train, X_valid, y_train, y_valid = train_test_split(X, y, train_size=0.8, test_size=0.2, random_state=0)"
      ],
      "execution_count": 0,
      "outputs": []
    },
    {
      "cell_type": "markdown",
      "metadata": {
        "id": "jo7Xs9bTpZdO",
        "colab_type": "text"
      },
      "source": [
        "Model scoring with MAE"
      ]
    },
    {
      "cell_type": "code",
      "metadata": {
        "id": "V7ZrBCONpc7H",
        "colab_type": "code",
        "colab": {}
      },
      "source": [
        "from sklearn.metrics import mean_absolute_error\n",
        "from sklearn.ensemble import RandomForestRegressor\n",
        "\n",
        "\n",
        "# Function for comparing different models\n",
        "def score_model(model, X_t=X_train, X_v=X_valid, y_t=y_train, y_v=y_valid):\n",
        "    model.fit(X_t, y_t)\n",
        "    preds = model.predict(X_v)\n",
        "    return mean_absolute_error(y_v, preds)\n",
        "  \n",
        "\n",
        "# Function for comparing different approaches\n",
        "def score_dataset(X_train, X_valid, y_train, y_valid):\n",
        "    model = RandomForestRegressor(n_estimators=100, random_state=0)\n",
        "    model.fit(X_train, y_train)\n",
        "    preds = model.predict(X_valid)\n",
        "    return mean_absolute_error(y_valid, preds)"
      ],
      "execution_count": 0,
      "outputs": []
    },
    {
      "cell_type": "markdown",
      "metadata": {
        "id": "_Nug_j0xqYjD",
        "colab_type": "text"
      },
      "source": [
        "\n",
        "Find missing data values"
      ]
    },
    {
      "cell_type": "code",
      "metadata": {
        "id": "sDm3n2jHqaut",
        "colab_type": "code",
        "colab": {
          "base_uri": "https://localhost:8080/",
          "height": 108
        },
        "outputId": "a2a3c79e-9b55-429b-f84f-ece61dcda337"
      },
      "source": [
        "# Shape of training data (num_rows, num_columns)\n",
        "print(X_train.shape)\n",
        "\n",
        "# Number of missing values in each column of training data\n",
        "missing_val_count_by_column = (X_train.isnull().sum())\n",
        "\n",
        "print(missing_val_count_by_column[missing_val_count_by_column > 0])"
      ],
      "execution_count": 12,
      "outputs": [
        {
          "output_type": "stream",
          "text": [
            "(1168, 36)\n",
            "LotFrontage    212\n",
            "MasVnrArea       6\n",
            "GarageYrBlt     58\n",
            "dtype: int64\n"
          ],
          "name": "stdout"
        }
      ]
    },
    {
      "cell_type": "markdown",
      "metadata": {
        "id": "Ul7Xo66a_0I3",
        "colab_type": "text"
      },
      "source": [
        "Data wrangling - Approach 1 \n",
        "\n",
        "Drop missing data"
      ]
    },
    {
      "cell_type": "code",
      "metadata": {
        "id": "2T2MPo4AAOxs",
        "colab_type": "code",
        "colab": {}
      },
      "source": [
        "cols_missing_data = [col for col in X_train.columns if X_train[col].isnull().any()]\n",
        "\n",
        "cleaned_X_train = X_train.drop(cols_missing_data, axis=1)\n",
        "cleaned_X_valid = X_valid.drop(cols_missing_data, axis=1)"
      ],
      "execution_count": 0,
      "outputs": []
    },
    {
      "cell_type": "markdown",
      "metadata": {
        "id": "-9wOKZk8DLpB",
        "colab_type": "text"
      },
      "source": [
        "shape after cleaning"
      ]
    },
    {
      "cell_type": "code",
      "metadata": {
        "id": "5JzliMmXDL6y",
        "colab_type": "code",
        "colab": {
          "base_uri": "https://localhost:8080/",
          "height": 54
        },
        "outputId": "aba028c2-c5bd-49b8-fe14-eacbb4126307"
      },
      "source": [
        "# Shape of training data (num_rows, num_columns)\n",
        "print(cleaned_X_train.shape)\n",
        "\n",
        "# Number of missing values in each column of training data\n",
        "missing_val_count_by_column = (cleaned_X_train.isnull().sum())\n",
        "\n",
        "print(missing_val_count_by_column[missing_val_count_by_column > 0])"
      ],
      "execution_count": 15,
      "outputs": [
        {
          "output_type": "stream",
          "text": [
            "(1168, 33)\n",
            "Series([], dtype: int64)\n"
          ],
          "name": "stdout"
        }
      ]
    },
    {
      "cell_type": "markdown",
      "metadata": {
        "id": "17T-za-bD5-a",
        "colab_type": "text"
      },
      "source": [
        "MAE after dropping columns with missing data"
      ]
    },
    {
      "cell_type": "code",
      "metadata": {
        "id": "W8jlm6e9D-Cs",
        "colab_type": "code",
        "colab": {
          "base_uri": "https://localhost:8080/",
          "height": 54
        },
        "outputId": "dce32bad-a1fe-4529-e2aa-29b97a69f1a6"
      },
      "source": [
        "print(\"MAE (Drop columns with missing values):\")\n",
        "print(score_dataset(cleaned_X_train, cleaned_X_valid, y_train, y_valid))"
      ],
      "execution_count": 18,
      "outputs": [
        {
          "output_type": "stream",
          "text": [
            "MAE (Drop columns with missing values):\n",
            "17837.82570776256\n"
          ],
          "name": "stdout"
        }
      ]
    },
    {
      "cell_type": "markdown",
      "metadata": {
        "id": "G7QvedvUtA2R",
        "colab_type": "text"
      },
      "source": [
        "Forward Stepwise Regression"
      ]
    },
    {
      "cell_type": "code",
      "metadata": {
        "id": "TpoMtO1ptADZ",
        "colab_type": "code",
        "colab": {}
      },
      "source": [
        ""
      ],
      "execution_count": 0,
      "outputs": []
    },
    {
      "cell_type": "markdown",
      "metadata": {
        "id": "7UU55TkUtIbi",
        "colab_type": "text"
      },
      "source": [
        "Ridge Regression"
      ]
    },
    {
      "cell_type": "code",
      "metadata": {
        "id": "e9eCNXN4tNKp",
        "colab_type": "code",
        "colab": {}
      },
      "source": [
        ""
      ],
      "execution_count": 0,
      "outputs": []
    },
    {
      "cell_type": "markdown",
      "metadata": {
        "id": "FoYyr0ZJtRwv",
        "colab_type": "text"
      },
      "source": [
        "Lasso Regression"
      ]
    },
    {
      "cell_type": "code",
      "metadata": {
        "id": "fOkEMAjItdHK",
        "colab_type": "code",
        "colab": {}
      },
      "source": [
        ""
      ],
      "execution_count": 0,
      "outputs": []
    },
    {
      "cell_type": "markdown",
      "metadata": {
        "id": "IFVUTC2Rtbxi",
        "colab_type": "text"
      },
      "source": [
        "Regression Tree"
      ]
    },
    {
      "cell_type": "code",
      "metadata": {
        "id": "Q8mMcUOztoWM",
        "colab_type": "code",
        "colab": {}
      },
      "source": [
        ""
      ],
      "execution_count": 0,
      "outputs": []
    },
    {
      "cell_type": "markdown",
      "metadata": {
        "id": "9xvNU-bdtorY",
        "colab_type": "text"
      },
      "source": [
        "The Optimal Model"
      ]
    }
  ]
}