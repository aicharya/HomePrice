{
  "nbformat": 4,
  "nbformat_minor": 0,
  "metadata": {
    "colab": {
      "name": "Data_Cleaning.ipynb",
      "version": "0.3.2",
      "provenance": [],
      "include_colab_link": true
    },
    "kernelspec": {
      "name": "python3",
      "display_name": "Python 3"
    }
  },
  "cells": [
    {
      "cell_type": "markdown",
      "metadata": {
        "id": "view-in-github",
        "colab_type": "text"
      },
      "source": [
        "<a href=\"https://colab.research.google.com/github/aicharya/HomePrice/blob/master/Data_Cleaning.ipynb\" target=\"_parent\"><img src=\"https://colab.research.google.com/assets/colab-badge.svg\" alt=\"Open In Colab\"/></a>"
      ]
    },
    {
      "cell_type": "code",
      "metadata": {
        "id": "lyjwOyZg7DmT",
        "colab_type": "code",
        "colab": {
          "base_uri": "https://localhost:8080/",
          "height": 126
        },
        "outputId": "5099db20-8412-448c-e705-284fcd3080c0"
      },
      "source": [
        "!rm -rf ./PyStatsLi\n",
        "!git clone https://github.com/aicharya/PyStatsLi.git"
      ],
      "execution_count": 1,
      "outputs": [
        {
          "output_type": "stream",
          "text": [
            "Cloning into 'PyStatsLi'...\n",
            "remote: Enumerating objects: 36, done.\u001b[K\n",
            "remote: Counting objects:   2% (1/36)   \u001b[K\rremote: Counting objects:   5% (2/36)   \u001b[K\rremote: Counting objects:   8% (3/36)   \u001b[K\rremote: Counting objects:  11% (4/36)   \u001b[K\rremote: Counting objects:  13% (5/36)   \u001b[K\rremote: Counting objects:  16% (6/36)   \u001b[K\rremote: Counting objects:  19% (7/36)   \u001b[K\rremote: Counting objects:  22% (8/36)   \u001b[K\rremote: Counting objects:  25% (9/36)   \u001b[K\rremote: Counting objects:  27% (10/36)   \u001b[K\rremote: Counting objects:  30% (11/36)   \u001b[K\rremote: Counting objects:  33% (12/36)   \u001b[K\rremote: Counting objects:  36% (13/36)   \u001b[K\rremote: Counting objects:  38% (14/36)   \u001b[K\rremote: Counting objects:  41% (15/36)   \u001b[K\rremote: Counting objects:  44% (16/36)   \u001b[K\rremote: Counting objects:  47% (17/36)   \u001b[K\rremote: Counting objects:  50% (18/36)   \u001b[K\rremote: Counting objects:  52% (19/36)   \u001b[K\rremote: Counting objects:  55% (20/36)   \u001b[K\rremote: Counting objects:  58% (21/36)   \u001b[K\rremote: Counting objects:  61% (22/36)   \u001b[K\rremote: Counting objects:  63% (23/36)   \u001b[K\rremote: Counting objects:  66% (24/36)   \u001b[K\rremote: Counting objects:  69% (25/36)   \u001b[K\rremote: Counting objects:  72% (26/36)   \u001b[K\rremote: Counting objects:  75% (27/36)   \u001b[K\rremote: Counting objects:  77% (28/36)   \u001b[K\rremote: Counting objects:  80% (29/36)   \u001b[K\rremote: Counting objects:  83% (30/36)   \u001b[K\rremote: Counting objects:  86% (31/36)   \u001b[K\rremote: Counting objects:  88% (32/36)   \u001b[K\rremote: Counting objects:  91% (33/36)   \u001b[K\rremote: Counting objects:  94% (34/36)   \u001b[K\rremote: Counting objects:  97% (35/36)   \u001b[K\rremote: Counting objects: 100% (36/36)   \u001b[K\rremote: Counting objects: 100% (36/36), done.\u001b[K\n",
            "remote: Compressing objects:   2% (1/34)   \u001b[K\rremote: Compressing objects:   5% (2/34)   \u001b[K\rremote: Compressing objects:   8% (3/34)   \u001b[K\rremote: Compressing objects:  11% (4/34)   \u001b[K\rremote: Compressing objects:  14% (5/34)   \u001b[K\rremote: Compressing objects:  17% (6/34)   \u001b[K\rremote: Compressing objects:  20% (7/34)   \u001b[K\rremote: Compressing objects:  23% (8/34)   \u001b[K\rremote: Compressing objects:  26% (9/34)   \u001b[K\rremote: Compressing objects:  29% (10/34)   \u001b[K\rremote: Compressing objects:  32% (11/34)   \u001b[K\rremote: Compressing objects:  35% (12/34)   \u001b[K\rremote: Compressing objects:  38% (13/34)   \u001b[K\rremote: Compressing objects:  41% (14/34)   \u001b[K\rremote: Compressing objects:  44% (15/34)   \u001b[K\rremote: Compressing objects:  47% (16/34)   \u001b[K\rremote: Compressing objects:  50% (17/34)   \u001b[K\rremote: Compressing objects:  52% (18/34)   \u001b[K\rremote: Compressing objects:  55% (19/34)   \u001b[K\rremote: Compressing objects:  58% (20/34)   \u001b[K\rremote: Compressing objects:  61% (21/34)   \u001b[K\rremote: Compressing objects:  64% (22/34)   \u001b[K\rremote: Compressing objects:  67% (23/34)   \u001b[K\rremote: Compressing objects:  70% (24/34)   \u001b[K\rremote: Compressing objects:  73% (25/34)   \u001b[K\rremote: Compressing objects:  76% (26/34)   \u001b[K\rremote: Compressing objects:  79% (27/34)   \u001b[K\rremote: Compressing objects:  82% (28/34)   \u001b[K\rremote: Compressing objects:  85% (29/34)   \u001b[K\rremote: Compressing objects:  88% (30/34)   \u001b[K\rremote: Compressing objects:  91% (31/34)   \u001b[K\rremote: Compressing objects:  94% (32/34)   \u001b[K\rremote: Compressing objects:  97% (33/34)   \u001b[K\rremote: Compressing objects: 100% (34/34)   \u001b[K\rremote: Compressing objects: 100% (34/34), done.\u001b[K\n",
            "Unpacking objects:   2% (1/36)   \rremote: Total 36 (delta 8), reused 8 (delta 0), pack-reused 0\u001b[K\n",
            "Unpacking objects:   5% (2/36)   \rUnpacking objects:   8% (3/36)   \rUnpacking objects:  11% (4/36)   \rUnpacking objects:  13% (5/36)   \rUnpacking objects:  16% (6/36)   \rUnpacking objects:  19% (7/36)   \rUnpacking objects:  22% (8/36)   \rUnpacking objects:  25% (9/36)   \rUnpacking objects:  27% (10/36)   \rUnpacking objects:  30% (11/36)   \rUnpacking objects:  33% (12/36)   \rUnpacking objects:  36% (13/36)   \rUnpacking objects:  38% (14/36)   \rUnpacking objects:  41% (15/36)   \rUnpacking objects:  44% (16/36)   \rUnpacking objects:  47% (17/36)   \rUnpacking objects:  50% (18/36)   \rUnpacking objects:  52% (19/36)   \rUnpacking objects:  55% (20/36)   \rUnpacking objects:  58% (21/36)   \rUnpacking objects:  61% (22/36)   \rUnpacking objects:  63% (23/36)   \rUnpacking objects:  66% (24/36)   \rUnpacking objects:  69% (25/36)   \rUnpacking objects:  72% (26/36)   \rUnpacking objects:  75% (27/36)   \rUnpacking objects:  77% (28/36)   \rUnpacking objects:  80% (29/36)   \rUnpacking objects:  83% (30/36)   \rUnpacking objects:  86% (31/36)   \rUnpacking objects:  88% (32/36)   \rUnpacking objects:  91% (33/36)   \rUnpacking objects:  94% (34/36)   \rUnpacking objects:  97% (35/36)   \rUnpacking objects: 100% (36/36)   \rUnpacking objects: 100% (36/36), done.\n"
          ],
          "name": "stdout"
        }
      ]
    },
    {
      "cell_type": "code",
      "metadata": {
        "id": "pqJ6_Lzj7Vyt",
        "colab_type": "code",
        "colab": {
          "base_uri": "https://localhost:8080/",
          "height": 35
        },
        "outputId": "eb6c2d00-a8e5-4606-bae9-7dc09bb7f958"
      },
      "source": [
        "import os\n",
        "os.listdir(\"./PyStatsLi\")"
      ],
      "execution_count": 2,
      "outputs": [
        {
          "output_type": "execute_result",
          "data": {
            "text/plain": [
              "['.git', 'billboard.csv', 'Intro.ipynb', 'README.md', 'Planets.csv']"
            ]
          },
          "metadata": {
            "tags": []
          },
          "execution_count": 2
        }
      ]
    },
    {
      "cell_type": "code",
      "metadata": {
        "id": "TYyj3NYj7fWU",
        "colab_type": "code",
        "colab": {
          "base_uri": "https://localhost:8080/",
          "height": 35
        },
        "outputId": "2737e416-964a-47d9-d55f-b2de84eef3fb"
      },
      "source": [
        "os.stat('./PyStatsLi/billboard.csv')"
      ],
      "execution_count": 6,
      "outputs": [
        {
          "output_type": "execute_result",
          "data": {
            "text/plain": [
              "os.stat_result(st_mode=33188, st_ino=1980954, st_dev=45, st_nlink=1, st_uid=0, st_gid=0, st_size=97626, st_atime=1559139015, st_mtime=1559139015, st_ctime=1559139015)"
            ]
          },
          "metadata": {
            "tags": []
          },
          "execution_count": 6
        }
      ]
    },
    {
      "cell_type": "code",
      "metadata": {
        "id": "0QD9u_jW8r6B",
        "colab_type": "code",
        "colab": {
          "base_uri": "https://localhost:8080/",
          "height": 35
        },
        "outputId": "c6c0edf3-64c9-4fff-8535-32743761d8bd"
      },
      "source": [
        "!chardet ./PyStatsLi/billboard.csv"
      ],
      "execution_count": 8,
      "outputs": [
        {
          "output_type": "stream",
          "text": [
            "/bin/bash: chardet: command not found\n"
          ],
          "name": "stdout"
        }
      ]
    },
    {
      "cell_type": "code",
      "metadata": {
        "id": "qaiKJSjv9Vrh",
        "colab_type": "code",
        "colab": {
          "base_uri": "https://localhost:8080/",
          "height": 371
        },
        "outputId": "1fca292d-f2f6-458c-dff1-36e8697f8ac7"
      },
      "source": [
        "from chardet.universaldetector import UniversalDetector\n",
        "\n",
        "\n",
        "filename = './PyStatsLi/billboard.csv'\n",
        "\n",
        "detector = UniversalDetector()\n",
        "\n",
        "with open(filename) as f:\n",
        "  for line in f:\n",
        "    print(line)\n",
        "    detector.feed(line)\n",
        "    if detector.done: break\n",
        "  detector.close()\n",
        "  \n",
        "print(detector.result)\n"
      ],
      "execution_count": 13,
      "outputs": [
        {
          "output_type": "error",
          "ename": "UnicodeDecodeError",
          "evalue": "ignored",
          "traceback": [
            "\u001b[0;31m---------------------------------------------------------------------------\u001b[0m",
            "\u001b[0;31mUnicodeDecodeError\u001b[0m                        Traceback (most recent call last)",
            "\u001b[0;32m<ipython-input-13-f26eef2e7a93>\u001b[0m in \u001b[0;36m<module>\u001b[0;34m()\u001b[0m\n\u001b[1;32m      7\u001b[0m \u001b[0;34m\u001b[0m\u001b[0m\n\u001b[1;32m      8\u001b[0m \u001b[0;32mwith\u001b[0m \u001b[0mopen\u001b[0m\u001b[0;34m(\u001b[0m\u001b[0mfilename\u001b[0m\u001b[0;34m)\u001b[0m \u001b[0;32mas\u001b[0m \u001b[0mf\u001b[0m\u001b[0;34m:\u001b[0m\u001b[0;34m\u001b[0m\u001b[0;34m\u001b[0m\u001b[0m\n\u001b[0;32m----> 9\u001b[0;31m   \u001b[0;32mfor\u001b[0m \u001b[0mline\u001b[0m \u001b[0;32min\u001b[0m \u001b[0mf\u001b[0m\u001b[0;34m:\u001b[0m\u001b[0;34m\u001b[0m\u001b[0;34m\u001b[0m\u001b[0m\n\u001b[0m\u001b[1;32m     10\u001b[0m     \u001b[0mprint\u001b[0m\u001b[0;34m(\u001b[0m\u001b[0mline\u001b[0m\u001b[0;34m)\u001b[0m\u001b[0;34m\u001b[0m\u001b[0;34m\u001b[0m\u001b[0m\n\u001b[1;32m     11\u001b[0m     \u001b[0mdetector\u001b[0m\u001b[0;34m.\u001b[0m\u001b[0mfeed\u001b[0m\u001b[0;34m(\u001b[0m\u001b[0mline\u001b[0m\u001b[0;34m)\u001b[0m\u001b[0;34m\u001b[0m\u001b[0;34m\u001b[0m\u001b[0m\n",
            "\u001b[0;32m/usr/lib/python3.6/codecs.py\u001b[0m in \u001b[0;36mdecode\u001b[0;34m(self, input, final)\u001b[0m\n\u001b[1;32m    319\u001b[0m         \u001b[0;31m# decode input (taking the buffer into account)\u001b[0m\u001b[0;34m\u001b[0m\u001b[0;34m\u001b[0m\u001b[0;34m\u001b[0m\u001b[0m\n\u001b[1;32m    320\u001b[0m         \u001b[0mdata\u001b[0m \u001b[0;34m=\u001b[0m \u001b[0mself\u001b[0m\u001b[0;34m.\u001b[0m\u001b[0mbuffer\u001b[0m \u001b[0;34m+\u001b[0m \u001b[0minput\u001b[0m\u001b[0;34m\u001b[0m\u001b[0;34m\u001b[0m\u001b[0m\n\u001b[0;32m--> 321\u001b[0;31m         \u001b[0;34m(\u001b[0m\u001b[0mresult\u001b[0m\u001b[0;34m,\u001b[0m \u001b[0mconsumed\u001b[0m\u001b[0;34m)\u001b[0m \u001b[0;34m=\u001b[0m \u001b[0mself\u001b[0m\u001b[0;34m.\u001b[0m\u001b[0m_buffer_decode\u001b[0m\u001b[0;34m(\u001b[0m\u001b[0mdata\u001b[0m\u001b[0;34m,\u001b[0m \u001b[0mself\u001b[0m\u001b[0;34m.\u001b[0m\u001b[0merrors\u001b[0m\u001b[0;34m,\u001b[0m \u001b[0mfinal\u001b[0m\u001b[0;34m)\u001b[0m\u001b[0;34m\u001b[0m\u001b[0;34m\u001b[0m\u001b[0m\n\u001b[0m\u001b[1;32m    322\u001b[0m         \u001b[0;31m# keep undecoded input until the next call\u001b[0m\u001b[0;34m\u001b[0m\u001b[0;34m\u001b[0m\u001b[0;34m\u001b[0m\u001b[0m\n\u001b[1;32m    323\u001b[0m         \u001b[0mself\u001b[0m\u001b[0;34m.\u001b[0m\u001b[0mbuffer\u001b[0m \u001b[0;34m=\u001b[0m \u001b[0mdata\u001b[0m\u001b[0;34m[\u001b[0m\u001b[0mconsumed\u001b[0m\u001b[0;34m:\u001b[0m\u001b[0;34m]\u001b[0m\u001b[0;34m\u001b[0m\u001b[0;34m\u001b[0m\u001b[0m\n",
            "\u001b[0;31mUnicodeDecodeError\u001b[0m: 'utf-8' codec can't decode byte 0xa1 in position 7614: invalid start byte"
          ]
        }
      ]
    }
  ]
}